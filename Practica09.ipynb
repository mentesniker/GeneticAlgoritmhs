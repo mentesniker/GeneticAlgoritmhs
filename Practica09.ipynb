{
  "nbformat": 4,
  "nbformat_minor": 0,
  "metadata": {
    "colab": {
      "name": "Practica09.ipynb",
      "version": "0.3.2",
      "provenance": []
    },
    "kernelspec": {
      "name": "python3",
      "display_name": "Python 3"
    }
  },
  "cells": [
    {
      "metadata": {
        "id": "EImsJjFzarow",
        "colab_type": "text"
      },
      "cell_type": "markdown",
      "source": [
        "Practica 07"
      ]
    },
    {
      "metadata": {
        "id": "V3oN4qVs39gj",
        "colab_type": "code",
        "colab": {}
      },
      "cell_type": "code",
      "source": [
        "import numpy as np\n",
        "import math"
      ],
      "execution_count": 0,
      "outputs": []
    },
    {
      "metadata": {
        "id": "BYL4z1bMbaO7",
        "colab_type": "code",
        "colab": {}
      },
      "cell_type": "code",
      "source": [
        "def contar_Cruces(tablero):\n",
        "  cruces = 0;\n",
        "  cruces += abs(len(tablero) - len(np.unique(tablero)))\n",
        "  for i in range(len(tablero)):\n",
        "    for j in range(i,len(tablero)):\n",
        "      if ( i != j):\n",
        "        dx = abs(i-j)\n",
        "        dy = abs(tablero[i] - tablero[j])\n",
        "        if(dx == dy):\n",
        "          cruces += 1\n",
        "  return cruces\n",
        "\n",
        "def generaTablero():\n",
        "  aux = list()\n",
        "  for i in range(0,7):\n",
        "    aux.append(np.random.randint(0,8))\n",
        "  return aux\n",
        "\n",
        "def MejorIndividuo(Aptitud):\n",
        "  mejor = 0\n",
        "  aux = Aptitud[0]\n",
        "  for i in range(len(Aptitud)):\n",
        "    if(Aptitud[i] < aux):\n",
        "      aux = Aptitud[i]\n",
        "      mejor = i\n",
        "  return mejor\n",
        "\n",
        "def Recombinacion(P1,P2):\n",
        "  lugar = np.random.randint(len(P1))\n",
        "  aux1 = P1[0:lugar]\n",
        "  aux2 = P2[lugar:]\n",
        "  hijo = list()\n",
        "  for i in range(0,len(aux1)):\n",
        "    hijo.append(aux1[i])\n",
        "  for i in range(0,len(aux2)):\n",
        "    hijo.append(aux2[i])\n",
        "  return hijo\n",
        "\n",
        "def Mutacion(Hijo):\n",
        "  for i in range(len(Hijo)):\n",
        "    valor = np.random.rand(1,1)[0]\n",
        "    if valor < 0.2:\n",
        "      Hijo[i] = np.random.randint(8)\n",
        "  return Hijo\n",
        "\n",
        "def AsignarAptitud(Poblacion):\n",
        "  Lista_cruces = list(map(contar_Cruces,Poblacion))\n",
        "  Cruces = np.sum(np.array(Lista_cruces))\n",
        "  return list(map(lambda x : x / Cruces,Lista_cruces))\n",
        "\n",
        "def imprimeTablero(t):\n",
        "  cadena = \"\"\n",
        "  for i in range(0,8):\n",
        "    for j in t:\n",
        "      if(j == i):\n",
        "        cadena += \" r \"\n",
        "      else:\n",
        "        cadena += \" - \"\n",
        "    cadena += \"\\n\"\n",
        "  return cadena"
      ],
      "execution_count": 0,
      "outputs": []
    },
    {
      "metadata": {
        "id": "XLplF1d-auef",
        "colab_type": "code",
        "colab": {}
      },
      "cell_type": "code",
      "source": [
        "Poblacion = list()\n",
        "for i in range(0,50):\n",
        "  Poblacion.append(generaTablero())\n",
        "Aptitud = AsignarAptitud(Poblacion)\n",
        "aux = list()\n",
        "for i in range(0,len(Poblacion)):\n",
        "  aux.append(i)"
      ],
      "execution_count": 0,
      "outputs": []
    },
    {
      "metadata": {
        "id": "XMDnQZ23HHd4",
        "colab_type": "code",
        "outputId": "441bf2d7-df16-4b1c-8fe4-a80f10070130",
        "colab": {
          "base_uri": "https://localhost:8080/",
          "height": 204
        }
      },
      "cell_type": "code",
      "source": [
        "while i < 1000:\n",
        "  NuevaPoblacion = list()\n",
        "  MejorInd = MejorIndividuo(Aptitud)\n",
        "  if contar_Cruces(Poblacion[MejorInd]) == 0:\n",
        "    break\n",
        "  if i%50 == 0:\n",
        "    print(\"Mejor Individuo\"+ \" en la generacion: \" + str(i) +\" es: \\n\" + imprimeTablero(Poblacion[MejorInd]))\n",
        "    print(\"Con numero De Cruces:\" + str(contar_Cruces(Poblacion[MejorInd])))\n",
        "  NuevaPoblacion.append(Poblacion[MejorInd])\n",
        "  while len(NuevaPoblacion) < 50:\n",
        "    padre1 = Poblacion[np.random.choice(np.array(aux),1, p=np.array(Aptitud))[0]]\n",
        "    padre2 = Poblacion[np.random.choice(np.array(aux),1, p=np.array(Aptitud))[0]]\n",
        "    hijo = Recombinacion(padre1,padre2)\n",
        "    hijo = Mutacion(hijo)\n",
        "    NuevaPoblacion.append(hijo)\n",
        "  Poblacion = NuevaPoblacion\n",
        "  Aptitud = AsignarAptitud(Poblacion)\n",
        "  i += 1\n",
        "MejorInd = MejorIndividuo(Aptitud)\n",
        "print(\"Mejor Individuo es: \\n\" + imprimeTablero(Poblacion[MejorInd]))\n",
        "print(\"Con numero De Cruces:\" + str(contar_Cruces(Poblacion[MejorInd])))"
      ],
      "execution_count": 85,
      "outputs": [
        {
          "output_type": "stream",
          "text": [
            "Mejor Individuo es: \n",
            " -  -  r  -  -  -  - \n",
            " r  -  -  -  -  -  - \n",
            " -  -  -  -  -  r  - \n",
            " -  -  -  r  -  -  - \n",
            " -  -  -  -  -  -  - \n",
            " -  -  -  -  -  -  r \n",
            " -  -  -  -  r  -  - \n",
            " -  r  -  -  -  -  - \n",
            "\n",
            "Con numero De Cruces:0\n"
          ],
          "name": "stdout"
        }
      ]
    }
  ]
}